{
 "cells": [
  {
   "cell_type": "code",
   "execution_count": 1,
   "id": "8b5b5a5f",
   "metadata": {},
   "outputs": [],
   "source": [
    "import cv2\n",
    "from keras.models import Sequential\n",
    "from keras.layers import Conv2D, MaxPooling2D, Dense, Dropout, Flatten\n",
    "from keras.optimizers import Adam\n",
    "from keras.preprocessing.image import ImageDataGenerator"
   ]
  },
  {
   "cell_type": "code",
   "execution_count": 2,
   "id": "02378bfa",
   "metadata": {},
   "outputs": [],
   "source": [
    "# Initialize image data generator with rescaling\n",
    "train_data_gen = ImageDataGenerator(rescale=1./255)\n",
    "validation_data_gen = ImageDataGenerator(rescale=1./255)"
   ]
  },
  {
   "cell_type": "code",
   "execution_count": 4,
   "id": "a2c02b92",
   "metadata": {},
   "outputs": [
    {
     "ename": "FileNotFoundError",
     "evalue": "[WinError 3] Le chemin d’accès spécifié est introuvable: 'train'",
     "output_type": "error",
     "traceback": [
      "\u001b[1;31m---------------------------------------------------------------------------\u001b[0m",
      "\u001b[1;31mFileNotFoundError\u001b[0m                         Traceback (most recent call last)",
      "\u001b[1;32m~\\AppData\\Local\\Temp/ipykernel_15388/3206835836.py\u001b[0m in \u001b[0;36m<module>\u001b[1;34m\u001b[0m\n\u001b[0;32m      1\u001b[0m \u001b[1;31m# Preprocess all test images\u001b[0m\u001b[1;33m\u001b[0m\u001b[1;33m\u001b[0m\u001b[0m\n\u001b[1;32m----> 2\u001b[1;33m train_generator = train_data_gen.flow_from_directory(\n\u001b[0m\u001b[0;32m      3\u001b[0m         \u001b[1;34m'train'\u001b[0m\u001b[1;33m,\u001b[0m\u001b[1;33m\u001b[0m\u001b[1;33m\u001b[0m\u001b[0m\n\u001b[0;32m      4\u001b[0m         \u001b[0mtarget_size\u001b[0m\u001b[1;33m=\u001b[0m\u001b[1;33m(\u001b[0m\u001b[1;36m48\u001b[0m\u001b[1;33m,\u001b[0m \u001b[1;36m48\u001b[0m\u001b[1;33m)\u001b[0m\u001b[1;33m,\u001b[0m\u001b[1;33m\u001b[0m\u001b[1;33m\u001b[0m\u001b[0m\n\u001b[0;32m      5\u001b[0m         \u001b[0mbatch_size\u001b[0m\u001b[1;33m=\u001b[0m\u001b[1;36m64\u001b[0m\u001b[1;33m,\u001b[0m\u001b[1;33m\u001b[0m\u001b[1;33m\u001b[0m\u001b[0m\n",
      "\u001b[1;32m~\\Downloads\\anaconda\\lib\\site-packages\\keras\\preprocessing\\image.py\u001b[0m in \u001b[0;36mflow_from_directory\u001b[1;34m(self, directory, target_size, color_mode, classes, class_mode, batch_size, shuffle, seed, save_to_dir, save_prefix, save_format, follow_links, subset, interpolation, keep_aspect_ratio)\u001b[0m\n\u001b[0;32m   1467\u001b[0m             \u001b[1;32mand\u001b[0m\u001b[0;31m \u001b[0m\u001b[0;31m`\u001b[0m\u001b[0my\u001b[0m\u001b[0;31m`\u001b[0m \u001b[1;32mis\u001b[0m \u001b[0ma\u001b[0m \u001b[0mnumpy\u001b[0m \u001b[0marray\u001b[0m \u001b[0mof\u001b[0m \u001b[0mcorresponding\u001b[0m \u001b[0mlabels\u001b[0m\u001b[1;33m.\u001b[0m\u001b[1;33m\u001b[0m\u001b[1;33m\u001b[0m\u001b[0m\n\u001b[0;32m   1468\u001b[0m     \"\"\"\n\u001b[1;32m-> 1469\u001b[1;33m     return DirectoryIterator(\n\u001b[0m\u001b[0;32m   1470\u001b[0m         \u001b[0mdirectory\u001b[0m\u001b[1;33m,\u001b[0m\u001b[1;33m\u001b[0m\u001b[1;33m\u001b[0m\u001b[0m\n\u001b[0;32m   1471\u001b[0m         \u001b[0mself\u001b[0m\u001b[1;33m,\u001b[0m\u001b[1;33m\u001b[0m\u001b[1;33m\u001b[0m\u001b[0m\n",
      "\u001b[1;32m~\\Downloads\\anaconda\\lib\\site-packages\\keras\\preprocessing\\image.py\u001b[0m in \u001b[0;36m__init__\u001b[1;34m(self, directory, image_data_generator, target_size, color_mode, classes, class_mode, batch_size, shuffle, seed, data_format, save_to_dir, save_prefix, save_format, follow_links, subset, interpolation, keep_aspect_ratio, dtype)\u001b[0m\n\u001b[0;32m    505\u001b[0m     \u001b[1;32mif\u001b[0m \u001b[1;32mnot\u001b[0m \u001b[0mclasses\u001b[0m\u001b[1;33m:\u001b[0m\u001b[1;33m\u001b[0m\u001b[1;33m\u001b[0m\u001b[0m\n\u001b[0;32m    506\u001b[0m       \u001b[0mclasses\u001b[0m \u001b[1;33m=\u001b[0m \u001b[1;33m[\u001b[0m\u001b[1;33m]\u001b[0m\u001b[1;33m\u001b[0m\u001b[1;33m\u001b[0m\u001b[0m\n\u001b[1;32m--> 507\u001b[1;33m       \u001b[1;32mfor\u001b[0m \u001b[0msubdir\u001b[0m \u001b[1;32min\u001b[0m \u001b[0msorted\u001b[0m\u001b[1;33m(\u001b[0m\u001b[0mos\u001b[0m\u001b[1;33m.\u001b[0m\u001b[0mlistdir\u001b[0m\u001b[1;33m(\u001b[0m\u001b[0mdirectory\u001b[0m\u001b[1;33m)\u001b[0m\u001b[1;33m)\u001b[0m\u001b[1;33m:\u001b[0m\u001b[1;33m\u001b[0m\u001b[1;33m\u001b[0m\u001b[0m\n\u001b[0m\u001b[0;32m    508\u001b[0m         \u001b[1;32mif\u001b[0m \u001b[0mos\u001b[0m\u001b[1;33m.\u001b[0m\u001b[0mpath\u001b[0m\u001b[1;33m.\u001b[0m\u001b[0misdir\u001b[0m\u001b[1;33m(\u001b[0m\u001b[0mos\u001b[0m\u001b[1;33m.\u001b[0m\u001b[0mpath\u001b[0m\u001b[1;33m.\u001b[0m\u001b[0mjoin\u001b[0m\u001b[1;33m(\u001b[0m\u001b[0mdirectory\u001b[0m\u001b[1;33m,\u001b[0m \u001b[0msubdir\u001b[0m\u001b[1;33m)\u001b[0m\u001b[1;33m)\u001b[0m\u001b[1;33m:\u001b[0m\u001b[1;33m\u001b[0m\u001b[1;33m\u001b[0m\u001b[0m\n\u001b[0;32m    509\u001b[0m           \u001b[0mclasses\u001b[0m\u001b[1;33m.\u001b[0m\u001b[0mappend\u001b[0m\u001b[1;33m(\u001b[0m\u001b[0msubdir\u001b[0m\u001b[1;33m)\u001b[0m\u001b[1;33m\u001b[0m\u001b[1;33m\u001b[0m\u001b[0m\n",
      "\u001b[1;31mFileNotFoundError\u001b[0m: [WinError 3] Le chemin d’accès spécifié est introuvable: 'train'"
     ]
    }
   ],
   "source": [
    "# Preprocess all test images\n",
    "train_generator = train_data_gen.flow_from_directory(\n",
    "        'train',\n",
    "        target_size=(48, 48),\n",
    "        batch_size=64,\n",
    "        color_mode=\"grayscale\",\n",
    "        class_mode='categorical')\n",
    "# Preprocess all train images\n",
    "validation_generator = validation_data_gen.flow_from_directory(\n",
    "        'test',\n",
    "        target_size=(48, 48),\n",
    "        batch_size=64,\n",
    "        color_mode=\"grayscale\",\n",
    "        class_mode='categorical')"
   ]
  },
  {
   "cell_type": "code",
   "execution_count": 4,
   "id": "9f71dcd5",
   "metadata": {},
   "outputs": [
    {
     "name": "stderr",
     "output_type": "stream",
     "text": [
      "C:\\Users\\User\\Downloads\\anaconda\\lib\\site-packages\\keras\\optimizers\\optimizer_v2\\adam.py:110: UserWarning: The `lr` argument is deprecated, use `learning_rate` instead.\n",
      "  super(Adam, self).__init__(name, **kwargs)\n"
     ]
    }
   ],
   "source": [
    "# create model structure CNN\n",
    "emotion_model = Sequential()\n",
    "\n",
    "emotion_model.add(Conv2D(32, kernel_size=(3, 3), activation='relu', input_shape=(48, 48, 1)))\n",
    "emotion_model.add(Conv2D(64, kernel_size=(3, 3), activation='relu'))\n",
    "emotion_model.add(MaxPooling2D(pool_size=(2, 2)))\n",
    "emotion_model.add(Dropout(0.25))\n",
    "\n",
    "emotion_model.add(Conv2D(128, kernel_size=(3, 3), activation='relu'))\n",
    "emotion_model.add(MaxPooling2D(pool_size=(2, 2)))\n",
    "emotion_model.add(Conv2D(128, kernel_size=(3, 3), activation='relu'))\n",
    "emotion_model.add(MaxPooling2D(pool_size=(2, 2)))\n",
    "emotion_model.add(Dropout(0.25))\n",
    "\n",
    "emotion_model.add(Flatten())\n",
    "emotion_model.add(Dense(1024, activation='relu'))\n",
    "emotion_model.add(Dropout(0.5))\n",
    "emotion_model.add(Dense(7, activation='softmax'))\n",
    "\n",
    "cv2.ocl.setUseOpenCL(False)\n",
    "\n",
    "emotion_model.compile(loss='categorical_crossentropy', optimizer=Adam(lr=0.0001, decay=1e-6), metrics=['accuracy'])\n"
   ]
  },
  {
   "cell_type": "code",
   "execution_count": 8,
   "id": "cb9c1d41",
   "metadata": {},
   "outputs": [
    {
     "name": "stdout",
     "output_type": "stream",
     "text": [
      "Epoch 1/50\n"
     ]
    },
    {
     "name": "stderr",
     "output_type": "stream",
     "text": [
      "C:\\Users\\User\\AppData\\Local\\Temp/ipykernel_18444/3198193097.py:2: UserWarning: `Model.fit_generator` is deprecated and will be removed in a future version. Please use `Model.fit`, which supports generators.\n",
      "  emotion_model_info = emotion_model.fit_generator(\n"
     ]
    },
    {
     "name": "stdout",
     "output_type": "stream",
     "text": [
      "448/448 [==============================] - 118s 262ms/step - loss: 1.6284 - accuracy: 0.3649 - val_loss: 1.5444 - val_accuracy: 0.4184\n",
      "Epoch 2/50\n",
      "448/448 [==============================] - 114s 254ms/step - loss: 1.5328 - accuracy: 0.4075 - val_loss: 1.4642 - val_accuracy: 0.4443\n",
      "Epoch 3/50\n",
      "448/448 [==============================] - 114s 255ms/step - loss: 1.4625 - accuracy: 0.4378 - val_loss: 1.3995 - val_accuracy: 0.4727\n",
      "Epoch 4/50\n",
      "448/448 [==============================] - 117s 260ms/step - loss: 1.4013 - accuracy: 0.4654 - val_loss: 1.3536 - val_accuracy: 0.4867\n",
      "Epoch 5/50\n",
      "448/448 [==============================] - 98s 218ms/step - loss: 1.3510 - accuracy: 0.4882 - val_loss: 1.3199 - val_accuracy: 0.5054\n",
      "Epoch 6/50\n",
      "448/448 [==============================] - 91s 203ms/step - loss: 1.3091 - accuracy: 0.5043 - val_loss: 1.2781 - val_accuracy: 0.5193\n",
      "Epoch 7/50\n",
      "448/448 [==============================] - 90s 202ms/step - loss: 1.2680 - accuracy: 0.5212 - val_loss: 1.2494 - val_accuracy: 0.5303\n",
      "Epoch 8/50\n",
      "448/448 [==============================] - 90s 200ms/step - loss: 1.2349 - accuracy: 0.5374 - val_loss: 1.2264 - val_accuracy: 0.5431\n",
      "Epoch 9/50\n",
      "448/448 [==============================] - 89s 200ms/step - loss: 1.1992 - accuracy: 0.5513 - val_loss: 1.2022 - val_accuracy: 0.5452\n",
      "Epoch 10/50\n",
      "448/448 [==============================] - 90s 201ms/step - loss: 1.1742 - accuracy: 0.5595 - val_loss: 1.1892 - val_accuracy: 0.5480\n",
      "Epoch 11/50\n",
      "448/448 [==============================] - 92s 205ms/step - loss: 1.1470 - accuracy: 0.5703 - val_loss: 1.1631 - val_accuracy: 0.5578\n",
      "Epoch 12/50\n",
      "448/448 [==============================] - 94s 210ms/step - loss: 1.1192 - accuracy: 0.5788 - val_loss: 1.1420 - val_accuracy: 0.5682\n",
      "Epoch 13/50\n",
      "448/448 [==============================] - 96s 215ms/step - loss: 1.0915 - accuracy: 0.5924 - val_loss: 1.1443 - val_accuracy: 0.5681\n",
      "Epoch 14/50\n",
      "448/448 [==============================] - 97s 216ms/step - loss: 1.0674 - accuracy: 0.5999 - val_loss: 1.1201 - val_accuracy: 0.5806\n",
      "Epoch 15/50\n",
      "448/448 [==============================] - 90s 200ms/step - loss: 1.0479 - accuracy: 0.6094 - val_loss: 1.1177 - val_accuracy: 0.5851\n",
      "Epoch 16/50\n",
      "448/448 [==============================] - 90s 200ms/step - loss: 1.0205 - accuracy: 0.6171 - val_loss: 1.1011 - val_accuracy: 0.5868\n",
      "Epoch 17/50\n",
      "448/448 [==============================] - 89s 199ms/step - loss: 0.9991 - accuracy: 0.6286 - val_loss: 1.1167 - val_accuracy: 0.5869\n",
      "Epoch 18/50\n",
      "448/448 [==============================] - 90s 200ms/step - loss: 0.9713 - accuracy: 0.6406 - val_loss: 1.1050 - val_accuracy: 0.5893\n",
      "Epoch 19/50\n",
      "448/448 [==============================] - 90s 201ms/step - loss: 0.9495 - accuracy: 0.6472 - val_loss: 1.0854 - val_accuracy: 0.5975\n",
      "Epoch 20/50\n",
      "448/448 [==============================] - 89s 200ms/step - loss: 0.9234 - accuracy: 0.6583 - val_loss: 1.0798 - val_accuracy: 0.6000\n",
      "Epoch 21/50\n",
      "448/448 [==============================] - 89s 199ms/step - loss: 0.9034 - accuracy: 0.6661 - val_loss: 1.0874 - val_accuracy: 0.5988\n",
      "Epoch 22/50\n",
      "448/448 [==============================] - 89s 199ms/step - loss: 0.8811 - accuracy: 0.6752 - val_loss: 1.0725 - val_accuracy: 0.6051\n",
      "Epoch 23/50\n",
      "448/448 [==============================] - 89s 199ms/step - loss: 0.8612 - accuracy: 0.6861 - val_loss: 1.0722 - val_accuracy: 0.6077\n",
      "Epoch 24/50\n",
      "448/448 [==============================] - 89s 199ms/step - loss: 0.8321 - accuracy: 0.6955 - val_loss: 1.0713 - val_accuracy: 0.6109\n",
      "Epoch 25/50\n",
      "448/448 [==============================] - 89s 200ms/step - loss: 0.8030 - accuracy: 0.7052 - val_loss: 1.0784 - val_accuracy: 0.6150\n",
      "Epoch 26/50\n",
      "448/448 [==============================] - 89s 200ms/step - loss: 0.7843 - accuracy: 0.7114 - val_loss: 1.0616 - val_accuracy: 0.6141\n",
      "Epoch 27/50\n",
      "448/448 [==============================] - 89s 200ms/step - loss: 0.7618 - accuracy: 0.7232 - val_loss: 1.0686 - val_accuracy: 0.6166\n",
      "Epoch 28/50\n",
      "448/448 [==============================] - 90s 201ms/step - loss: 0.7397 - accuracy: 0.7315 - val_loss: 1.0677 - val_accuracy: 0.6198\n",
      "Epoch 29/50\n",
      "448/448 [==============================] - 89s 199ms/step - loss: 0.7115 - accuracy: 0.7430 - val_loss: 1.0651 - val_accuracy: 0.6140\n",
      "Epoch 30/50\n",
      "448/448 [==============================] - 89s 199ms/step - loss: 0.6907 - accuracy: 0.7495 - val_loss: 1.0750 - val_accuracy: 0.6147\n",
      "Epoch 31/50\n",
      "448/448 [==============================] - 90s 200ms/step - loss: 0.6708 - accuracy: 0.7547 - val_loss: 1.0660 - val_accuracy: 0.6143\n",
      "Epoch 32/50\n",
      "448/448 [==============================] - 87s 195ms/step - loss: 0.6514 - accuracy: 0.7632 - val_loss: 1.0755 - val_accuracy: 0.6205\n",
      "Epoch 33/50\n",
      "448/448 [==============================] - 87s 195ms/step - loss: 0.6268 - accuracy: 0.7718 - val_loss: 1.0934 - val_accuracy: 0.6170\n",
      "Epoch 34/50\n",
      "448/448 [==============================] - 87s 194ms/step - loss: 0.6027 - accuracy: 0.7815 - val_loss: 1.1033 - val_accuracy: 0.6172\n",
      "Epoch 35/50\n",
      "448/448 [==============================] - 87s 194ms/step - loss: 0.5894 - accuracy: 0.7847 - val_loss: 1.0980 - val_accuracy: 0.6210\n",
      "Epoch 36/50\n",
      "448/448 [==============================] - 87s 195ms/step - loss: 0.5664 - accuracy: 0.7961 - val_loss: 1.1109 - val_accuracy: 0.6253\n",
      "Epoch 37/50\n",
      "448/448 [==============================] - 87s 195ms/step - loss: 0.5465 - accuracy: 0.8015 - val_loss: 1.1049 - val_accuracy: 0.6158\n",
      "Epoch 38/50\n",
      "448/448 [==============================] - 87s 195ms/step - loss: 0.5288 - accuracy: 0.8094 - val_loss: 1.1182 - val_accuracy: 0.6225\n",
      "Epoch 39/50\n",
      "448/448 [==============================] - 87s 194ms/step - loss: 0.5167 - accuracy: 0.8104 - val_loss: 1.1370 - val_accuracy: 0.6237\n",
      "Epoch 40/50\n",
      "448/448 [==============================] - 87s 195ms/step - loss: 0.4992 - accuracy: 0.8206 - val_loss: 1.1234 - val_accuracy: 0.6182\n",
      "Epoch 41/50\n",
      "448/448 [==============================] - 87s 195ms/step - loss: 0.4877 - accuracy: 0.8250 - val_loss: 1.1360 - val_accuracy: 0.6279\n",
      "Epoch 42/50\n",
      "448/448 [==============================] - 87s 195ms/step - loss: 0.4635 - accuracy: 0.8328 - val_loss: 1.1559 - val_accuracy: 0.6218\n",
      "Epoch 43/50\n",
      "448/448 [==============================] - 87s 195ms/step - loss: 0.4520 - accuracy: 0.8371 - val_loss: 1.1561 - val_accuracy: 0.6264\n",
      "Epoch 44/50\n",
      "448/448 [==============================] - 87s 195ms/step - loss: 0.4311 - accuracy: 0.8442 - val_loss: 1.1830 - val_accuracy: 0.6251\n",
      "Epoch 45/50\n",
      "448/448 [==============================] - 1304s 3s/step - loss: 0.4182 - accuracy: 0.8499 - val_loss: 1.1838 - val_accuracy: 0.6302\n",
      "Epoch 46/50\n",
      "448/448 [==============================] - 90s 202ms/step - loss: 0.4046 - accuracy: 0.8555 - val_loss: 1.1866 - val_accuracy: 0.6260\n",
      "Epoch 47/50\n",
      "448/448 [==============================] - 91s 204ms/step - loss: 0.3924 - accuracy: 0.8577 - val_loss: 1.2253 - val_accuracy: 0.6226\n",
      "Epoch 48/50\n",
      "448/448 [==============================] - 94s 209ms/step - loss: 0.3838 - accuracy: 0.8628 - val_loss: 1.2120 - val_accuracy: 0.6263\n",
      "Epoch 49/50\n",
      "448/448 [==============================] - 93s 208ms/step - loss: 0.3688 - accuracy: 0.8674 - val_loss: 1.2279 - val_accuracy: 0.6278\n",
      "Epoch 50/50\n",
      "448/448 [==============================] - 91s 202ms/step - loss: 0.3603 - accuracy: 0.8701 - val_loss: 1.2262 - val_accuracy: 0.6283\n"
     ]
    }
   ],
   "source": [
    "# Train the neural network/model\n",
    "emotion_model_info = emotion_model.fit_generator(\n",
    "        train_generator,\n",
    "        steps_per_epoch=28709 // 64,\n",
    "        epochs=50,\n",
    "        validation_data=validation_generator,\n",
    "        validation_steps=7178 // 64)"
   ]
  },
  {
   "cell_type": "code",
   "execution_count": 9,
   "id": "1247e42c",
   "metadata": {},
   "outputs": [],
   "source": [
    "# save model structure in jason file\n",
    "model_json = emotion_model.to_json()\n",
    "with open(\"emotion_model.json\", \"w\") as json_file:\n",
    "    json_file.write(model_json)\n"
   ]
  },
  {
   "cell_type": "code",
   "execution_count": 10,
   "id": "8c3692ba",
   "metadata": {},
   "outputs": [],
   "source": [
    "# save trained model weight in .h5 file\n",
    "emotion_model.save_weights('emotion_model.h5')\n"
   ]
  },
  {
   "cell_type": "code",
   "execution_count": null,
   "id": "e94d6d33",
   "metadata": {},
   "outputs": [],
   "source": []
  }
 ],
 "metadata": {
  "kernelspec": {
   "display_name": "Python 3 (ipykernel)",
   "language": "python",
   "name": "python3"
  },
  "language_info": {
   "codemirror_mode": {
    "name": "ipython",
    "version": 3
   },
   "file_extension": ".py",
   "mimetype": "text/x-python",
   "name": "python",
   "nbconvert_exporter": "python",
   "pygments_lexer": "ipython3",
   "version": "3.9.7"
  }
 },
 "nbformat": 4,
 "nbformat_minor": 5
}
